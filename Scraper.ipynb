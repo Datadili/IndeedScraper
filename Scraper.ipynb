{
 "cells": [
  {
   "cell_type": "code",
   "outputs": [],
   "source": [
    "def job_titles():\n",
    "    while True:\n",
    "        job_title = input(\"What is your dream job?\")\n",
    "        \n",
    "        #check if something empty has been entered.\n",
    "        # if empty, empty things in python are \"False\" thus this reads as if True \n",
    "        if not job_title.strip():  # The .strip() method removes any leading or trailing whitespace...\n",
    "            print(\"Job Title cannot be blank. Please enter a valid job title\\n\")\n",
    "            # go back to asking for the location..\n",
    "            continue  \n",
    "        \n",
    "        #if job title is a number or contains a number and character\n",
    "        if job_title.strip().isdigit():\n",
    "            print(\"Job Title shouldn't contain solely numbers or a number. Please enter a valid job title\\n\")\n",
    "            continue\n",
    "        \n",
    "        while True:\n",
    "            validation = input(f\"This is the Job title entered: {job_title}\\n\\n Should we proceed with this result? (y/n): \")\n",
    "            if validation == \"y\":\n",
    "                return job_title\n",
    "            elif validation == \"n\":\n",
    "                break\n",
    "            else:\n",
    "                print(\"Please enter 'y' or 'n': \")\n",
    "\n",
    "def locations():\n",
    "    while True:\n",
    "        location = input(\"Please input a valid US location. This can be a ZIP code, city, state, city and state, or city and state abbreviation.\\nPlease note that there is no built-in verification system to ensure the accuracy of the location you provide.\\nThe validity of your results relies on the authenticity of the US location you enter.\")\n",
    "            \n",
    "        #check if something empty has been entered.\n",
    "        # if empty, empty things in python are \"False\" thus this reads as if True \n",
    "        if not location.strip():  # The .strip() method removes any leading or trailing whitespace...\n",
    "            print(\"Location cannot be blank. Please enter a valid US location.\\n\")\n",
    "            # go back to asking for the location..\n",
    "            continue  \n",
    "\n",
    "        while True:\n",
    "            validation = input(f\"This is the location entered: {location}\\n\\n Should we proceed with this result? (y/n): \")\n",
    "            if validation == \"y\":\n",
    "                return location\n",
    "            elif validation == \"n\":\n",
    "                break\n",
    "            else:\n",
    "                print(\"Please enter 'y' or 'n': \")\n",
    "    \n",
    "def time_frames():\n",
    "    # 1 = last 24 hours\n",
    "    # 2 = last 3 days\n",
    "    # 3 = last 7 days\n",
    "    # 4 = last 14 days\n",
    "    while True:\n",
    "        time_frame = input(\"Enter the time frame of jobs last posted. Options are:\\n1 or last 24 hours\\n2 or last 3 days\\n3 or last 7 days\\n4 or last 14 days\")\n",
    "        time_frame = time_frame.lower()\n",
    "        if time_frame == \"1\" or time_frame == \"last 24 hours\":\n",
    "            return 1\n",
    "        elif time_frame == \"2\" or time_frame == \"last 3 days\":\n",
    "            return 2\n",
    "        elif time_frame == \"3\" or time_frame == \"last 7 days\":\n",
    "            return 3\n",
    "        elif time_frame == \"4\" or time_frame == \"last 14 days\":\n",
    "            return 4\n",
    "        else:\n",
    "            print(\"Please enter a valid option!\")\n",
    "            \n",
    "#defining a dictionary for later use...\n",
    "timeframes = {\n",
    "    1: \"last 24 hours\",\n",
    "    2: \"last 3 days\",\n",
    "    3: \"last 7 days\",\n",
    "    4: \"last 14 days\"\n",
    "}\n",
    " "
   ],
   "metadata": {
    "collapsed": false,
    "ExecuteTime": {
     "end_time": "2024-04-09T23:20:36.009161Z",
     "start_time": "2024-04-09T23:20:35.997333Z"
    }
   },
   "id": "14299ba793bb04ff",
   "execution_count": 7
  },
  {
   "cell_type": "code",
   "outputs": [
    {
     "name": "stdout",
     "output_type": "stream",
     "text": [
      "Please enter 'y' or 'n': \n",
      "Please enter a valid option!\n",
      "Please enter a valid option!\n",
      "Search Results:\n"
     ]
    },
    {
     "data": {
      "text/plain": "             Title                 Company             Location\n0  Project Manager  Main Enterprises, INC.  Stratford, CT 06615",
      "text/html": "<div>\n<style scoped>\n    .dataframe tbody tr th:only-of-type {\n        vertical-align: middle;\n    }\n\n    .dataframe tbody tr th {\n        vertical-align: top;\n    }\n\n    .dataframe thead th {\n        text-align: right;\n    }\n</style>\n<table border=\"1\" class=\"dataframe\">\n  <thead>\n    <tr style=\"text-align: right;\">\n      <th></th>\n      <th>Title</th>\n      <th>Company</th>\n      <th>Location</th>\n    </tr>\n  </thead>\n  <tbody>\n    <tr>\n      <th>0</th>\n      <td>Project Manager</td>\n      <td>Main Enterprises, INC.</td>\n      <td>Stratford, CT 06615</td>\n    </tr>\n  </tbody>\n</table>\n</div>"
     },
     "metadata": {},
     "output_type": "display_data"
    },
    {
     "name": "stdout",
     "output_type": "stream",
     "text": [
      "Thanks for using this!\n"
     ]
    }
   ],
   "source": [
    "import pandas as pd\n",
    "from selenium import webdriver\n",
    "from selenium.webdriver.common.by import By\n",
    "from selenium.common.exceptions import NoSuchElementException, JavascriptException\n",
    "\n",
    "\n",
    "job_title = job_titles()  \n",
    "location = locations()\n",
    "time_frame = time_frames()\n",
    "\n",
    "def IndeedScraper(job_title:str, location:str, time_frame:int):\n",
    "    \n",
    "    #setting the website\n",
    "    url = \"https://www.indeed.com/\"\n",
    "    driver = webdriver.Chrome()\n",
    "    driver.get(url)\n",
    "    \n",
    "    \n",
    "    #location or remote #if remote, can't use radius\"\n",
    "    keywords_loc = driver.find_element(By.XPATH, '//*[@id=\"text-input-where\"]')\n",
    "    keywords_loc.clear() #remove words already in keyword\n",
    "    keywords_loc.send_keys(location)\n",
    "    keywords_loc.submit()\n",
    "    \n",
    "    \n",
    "    # Wait for the keywords input field to be visible and interactable\n",
    "    #TO BE ITERATED\n",
    "    keywords = driver.find_element(By.XPATH, '//*[@id=\"text-input-what\"]')\n",
    "    keywords.send_keys(job_title)\n",
    "    keywords.submit()\n",
    "    \n",
    "    #try selecting the date frame. If not selectable, there is probably no job left...\n",
    "    try:\n",
    "        ##filter-dateposted-menu is the id for \"date posted\", \n",
    "        ##li:nth-child(4) gets the (4)th element within the #filter-dateposted-menu\n",
    "        ## [a] as in [li:nth-child(4) a] gets the element with the a tag in the fourth element \n",
    "        ## .click() clicks the element\n",
    "        driver.execute_script(f\"document.querySelector('#filter-dateposted-menu li:nth-child({time_frame}) a').click()\")\n",
    "    \n",
    "        #get the number of jobs\n",
    "        jobs_num = driver.find_element(By.CSS_SELECTOR,\".jobsearch-JobCountAndSortPane-jobCount.css-13jafh6.eu4oa1w0\").text\n",
    "    #if you can't select or there's no \"jobs_num\" there's probably no jobs\n",
    "    except (JavascriptException, NoSuchElementException):\n",
    "        print(\"Search Results:\")\n",
    "        return f\"No jobs found for {job_title}, located in {location}, posted within the {timeframes[time_frame]}\"\n",
    "    \n",
    "    jobs_data = []  # List to store job data\n",
    "    \n",
    "    #while true continues until there's no job matches on a given the page\n",
    "    while True: \n",
    "        #on a page, get the current jobs there \n",
    "        jobs = driver.find_elements(By.CSS_SELECTOR, \".job_seen_beacon\")\n",
    "        \n",
    "        #for every job on the page\n",
    "        for job in jobs:\n",
    "            #get the title\n",
    "            title = job.find_element(By.CSS_SELECTOR, \"a > span\").get_attribute('title')\n",
    "            #get the company\n",
    "            company_name = job.find_element(By.CSS_SELECTOR, \".css-92r8pb.eu4oa1w0\").text\n",
    "            #get the location\n",
    "            company_location = job.find_element(By.CSS_SELECTOR, \".css-1p0sjhy.eu4oa1w0\").text\n",
    "            \n",
    "            #Add entry as a row in the dataset\n",
    "            job_entry = {\n",
    "                \"Title\": title,\n",
    "                \"Company\": company_name,\n",
    "                \"Location\": company_location\n",
    "            }\n",
    "            #append each row (for all the jobs on the page (so usually 15 at a time)\n",
    "            jobs_data.append(job_entry)\n",
    "    \n",
    "        # Attempt to go to the next page (try\n",
    "        try:\n",
    "            #if there's a \"next page\", click next, if sucessful, the \"While true\" starts again\n",
    "            next_page = driver.find_element(By.CSS_SELECTOR, \"a[data-testid='pagination-page-next']\")\n",
    "            next_page.click()\n",
    "        # If there's no next page, exit the loop (same for only one-page job searches)\n",
    "        except NoSuchElementException:\n",
    "            break  \n",
    "    \n",
    "    #close the browser when done\n",
    "    driver.close()\n",
    "    print(\"Search Results:\")\n",
    "    return pd.DataFrame(jobs_data)\n",
    "\n",
    "#The User may want to perform multiple sources!\n",
    "true = True\n",
    "while true:\n",
    "    jobs_data = IndeedScraper(job_title, location, time_frame)\n",
    "        # If jobs_data is a DataFrame, it will be displayed nicely in Jupyter\n",
    "    if isinstance(jobs_data, pd.DataFrame):\n",
    "        # This print statement helps with clarity before showing the DataFrame\n",
    "        display(jobs_data) \n",
    "    else:\n",
    "        # If jobs_data is not a DataFrame, print the message directly\n",
    "        print(jobs_data)\n",
    "    # Ask if the user wants to perform a new search\n",
    "    while True:\n",
    "        end = input(\"Do you want to try a new search? (y/n): \").lower()\n",
    "        if end == \"y\":\n",
    "            # Exits the inner loop and restarts the outer loop for a new search\n",
    "            job_title = job_titles()  \n",
    "            location = locations()\n",
    "            time_frame = time_frames()\n",
    "            break  \n",
    "        elif end == \"n\":\n",
    "            print(\"Thanks for using this!\")\n",
    "            #makes true False then ends the upper while loop\n",
    "            true = False\n",
    "            break \n",
    "        else:\n",
    "            #this will continue until either y or n is answered\n",
    "            print(\"Please enter 'y' or 'n'\")\n"
   ],
   "metadata": {
    "collapsed": false,
    "ExecuteTime": {
     "end_time": "2024-04-09T23:24:00.099830Z",
     "start_time": "2024-04-09T23:20:38.009111Z"
    }
   },
   "id": "a742e71d600c1d09",
   "execution_count": 8
  },
  {
   "cell_type": "code",
   "outputs": [
    {
     "data": {
      "text/plain": "             Title                 Company             Location\n0  Project Manager  Main Enterprises, INC.  Stratford, CT 06615",
      "text/html": "<div>\n<style scoped>\n    .dataframe tbody tr th:only-of-type {\n        vertical-align: middle;\n    }\n\n    .dataframe tbody tr th {\n        vertical-align: top;\n    }\n\n    .dataframe thead th {\n        text-align: right;\n    }\n</style>\n<table border=\"1\" class=\"dataframe\">\n  <thead>\n    <tr style=\"text-align: right;\">\n      <th></th>\n      <th>Title</th>\n      <th>Company</th>\n      <th>Location</th>\n    </tr>\n  </thead>\n  <tbody>\n    <tr>\n      <th>0</th>\n      <td>Project Manager</td>\n      <td>Main Enterprises, INC.</td>\n      <td>Stratford, CT 06615</td>\n    </tr>\n  </tbody>\n</table>\n</div>"
     },
     "execution_count": 11,
     "metadata": {},
     "output_type": "execute_result"
    }
   ],
   "source": [
    "import pandas as pd\n",
    "#print(f\"There is are {jobs_num} which match the description\")\n",
    "pd.DataFrame(jobs_data)"
   ],
   "metadata": {
    "ExecuteTime": {
     "end_time": "2024-04-10T01:07:31.348685Z",
     "start_time": "2024-04-10T01:07:31.341962Z"
    }
   },
   "id": "3c8fa451",
   "execution_count": 11
  },
  {
   "cell_type": "code",
   "outputs": [
    {
     "data": {
      "text/plain": "'last 24 hours'"
     },
     "execution_count": 8,
     "metadata": {},
     "output_type": "execute_result"
    }
   ],
   "source": [
    "timeframes = {\n",
    "    1: \"last 24 hours\",\n",
    "    2: \"last 3 days\",\n",
    "    3: \"last 7 days\",\n",
    "    4: \"last 14 days\"\n",
    "}\n",
    "\n",
    "timeframes[1]"
   ],
   "metadata": {
    "collapsed": false,
    "ExecuteTime": {
     "end_time": "2024-04-09T08:27:01.472088Z",
     "start_time": "2024-04-09T08:27:01.434329Z"
    }
   },
   "id": "3c0b537ffcd05e04",
   "execution_count": 8
  },
  {
   "cell_type": "code",
   "outputs": [
    {
     "data": {
      "text/plain": "             Title                 Company             Location\n0  Project Manager  Main Enterprises, INC.  Stratford, CT 06615",
      "text/html": "<div>\n<style scoped>\n    .dataframe tbody tr th:only-of-type {\n        vertical-align: middle;\n    }\n\n    .dataframe tbody tr th {\n        vertical-align: top;\n    }\n\n    .dataframe thead th {\n        text-align: right;\n    }\n</style>\n<table border=\"1\" class=\"dataframe\">\n  <thead>\n    <tr style=\"text-align: right;\">\n      <th></th>\n      <th>Title</th>\n      <th>Company</th>\n      <th>Location</th>\n    </tr>\n  </thead>\n  <tbody>\n    <tr>\n      <th>0</th>\n      <td>Project Manager</td>\n      <td>Main Enterprises, INC.</td>\n      <td>Stratford, CT 06615</td>\n    </tr>\n  </tbody>\n</table>\n</div>"
     },
     "execution_count": 9,
     "metadata": {},
     "output_type": "execute_result"
    }
   ],
   "source": [
    "jobs_data"
   ],
   "metadata": {
    "collapsed": false,
    "ExecuteTime": {
     "end_time": "2024-04-10T01:05:55.269674Z",
     "start_time": "2024-04-10T01:05:55.246858Z"
    }
   },
   "id": "40deb3100483f6ab",
   "execution_count": 9
  },
  {
   "cell_type": "code",
   "outputs": [],
   "source": [],
   "metadata": {
    "collapsed": false
   },
   "id": "20d4c98f1868fda9"
  }
 ],
 "metadata": {
  "kernelspec": {
   "display_name": "Python 3 (ipykernel)",
   "language": "python",
   "name": "python3"
  },
  "language_info": {
   "codemirror_mode": {
    "name": "ipython",
    "version": 3
   },
   "file_extension": ".py",
   "mimetype": "text/x-python",
   "name": "python",
   "nbconvert_exporter": "python",
   "pygments_lexer": "ipython3",
   "version": "3.10.9"
  }
 },
 "nbformat": 4,
 "nbformat_minor": 5
}
