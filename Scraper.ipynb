{
 "cells": [
  {
   "cell_type": "code",
   "outputs": [],
   "source": [
    "def job_titles():\n",
    "    while True:\n",
    "        job_title = input(\"What is your dream job?\")\n",
    "        \n",
    "        #check if something empty has been entered.\n",
    "        # if empty, empty things in python are \"False\" thus this reads as if True \n",
    "        if not job_title.strip():  # The .strip() method removes any leading or trailing whitespace...\n",
    "            print(\"Job Title cannot be blank. Please enter a valid job title\\n\")\n",
    "            # go back to asking for the location..\n",
    "            continue  \n",
    "        \n",
    "        #if job title is a number or contains a number and character\n",
    "        if job_title.strip().isdigit():\n",
    "            print(\"Job Title shouldn't contain solely numbers or a number. Please enter a valid job title\\n\")\n",
    "            continue\n",
    "        \n",
    "        while True:\n",
    "            validation = input(f\"This is the Job title entered: {job_title}\\n\\n Should we proceed with this result? (y/n): \")\n",
    "            if validation == \"y\":\n",
    "                return job_title\n",
    "            elif validation == \"n\":\n",
    "                break\n",
    "            else:\n",
    "                print(\"Please enter 'y' or 'n': \")\n",
    "\n",
    "def locations():\n",
    "    while True:\n",
    "        location = input(\"Please input a valid US location. This can be a ZIP code, city, state, city and state, or city and state abbreviation.\\nPlease note that there is no built-in verification system to ensure the accuracy of the location you provide.\\nThe validity of your results relies on the authenticity of the US location you enter.\")\n",
    "            \n",
    "        #check if something empty has been entered.\n",
    "        # if empty, empty things in python are \"False\" thus this reads as if True \n",
    "        if not location.strip():  # The .strip() method removes any leading or trailing whitespace...\n",
    "            print(\"Location cannot be blank. Please enter a valid US location.\\n\")\n",
    "            # go back to asking for the location..\n",
    "            continue  \n",
    "\n",
    "        while True:\n",
    "            validation = input(f\"This is the location entered: {location}\\n\\n Should we proceed with this result? (y/n): \")\n",
    "            if validation == \"y\":\n",
    "                return location\n",
    "            elif validation == \"n\":\n",
    "                break\n",
    "            else:\n",
    "                print(\"Please enter 'y' or 'n': \")\n",
    "    \n",
    "def time_frames():\n",
    "    while True:\n",
    "        time_frame = input(\"Enter the time frame you would like to. Options are:\\n1 or last 24 hours\\n2 or last 3 days\\n3 or last 7 days\\n4 or last 14 days\")\n",
    "        time_frame = time_frame.lower()\n",
    "        if time_frame == \"1\" or time_frame == \"last 24 hours\":\n",
    "            return 1\n",
    "        elif time_frame == \"2\" or time_frame == \"last 3 days\":\n",
    "            return 2\n",
    "        elif time_frame == \"3\" or time_frame == \"last 7 days\":\n",
    "            return 3\n",
    "        elif time_frame == \"4\" or time_frame == \"last 14 days\":\n",
    "            return 4\n",
    "        else:\n",
    "            print(\"Please enter a valid option!\")\n",
    " "
   ],
   "metadata": {
    "collapsed": false,
    "ExecuteTime": {
     "end_time": "2024-04-09T08:18:36.765857Z",
     "start_time": "2024-04-09T08:18:36.750715Z"
    }
   },
   "id": "14299ba793bb04ff",
   "execution_count": 3
  },
  {
   "cell_type": "code",
   "outputs": [
    {
     "ename": "JavascriptException",
     "evalue": "Message: javascript error: Cannot read properties of null (reading 'click')\n  (Session info: chrome=123.0.6312.107)\nStacktrace:\n0   chromedriver                        0x0000000100770474 chromedriver + 4326516\n1   chromedriver                        0x000000010076893c chromedriver + 4294972\n2   chromedriver                        0x0000000100394088 chromedriver + 278664\n3   chromedriver                        0x0000000100398abc chromedriver + 297660\n4   chromedriver                        0x000000010039a684 chromedriver + 304772\n5   chromedriver                        0x000000010040ff30 chromedriver + 786224\n6   chromedriver                        0x000000010040f4f8 chromedriver + 783608\n7   chromedriver                        0x00000001003cb4e4 chromedriver + 505060\n8   chromedriver                        0x00000001003cbf5c chromedriver + 507740\n9   chromedriver                        0x0000000100733a10 chromedriver + 4078096\n10  chromedriver                        0x00000001007387c8 chromedriver + 4097992\n11  chromedriver                        0x000000010071a5b4 chromedriver + 3974580\n12  chromedriver                        0x00000001007390e0 chromedriver + 4100320\n13  chromedriver                        0x000000010070bba4 chromedriver + 3914660\n14  chromedriver                        0x00000001007596e8 chromedriver + 4232936\n15  chromedriver                        0x0000000100759864 chromedriver + 4233316\n16  chromedriver                        0x00000001007685b0 chromedriver + 4294064\n17  libsystem_pthread.dylib             0x000000019c122f94 _pthread_start + 136\n18  libsystem_pthread.dylib             0x000000019c11dd34 thread_start + 8\n",
     "output_type": "error",
     "traceback": [
      "\u001B[0;31m---------------------------------------------------------------------------\u001B[0m",
      "\u001B[0;31mJavascriptException\u001B[0m                       Traceback (most recent call last)",
      "Cell \u001B[0;32mIn[4], line 83\u001B[0m\n\u001B[1;32m     80\u001B[0m     driver\u001B[38;5;241m.\u001B[39mclose()\n\u001B[1;32m     81\u001B[0m     \u001B[38;5;28;01mreturn\u001B[39;00m jobs_data\n\u001B[0;32m---> 83\u001B[0m jobs_data \u001B[38;5;241m=\u001B[39m \u001B[43mIndeedScraper\u001B[49m\u001B[43m(\u001B[49m\u001B[43mjob_title\u001B[49m\u001B[43m,\u001B[49m\u001B[43m \u001B[49m\u001B[43mlocation\u001B[49m\u001B[43m,\u001B[49m\u001B[43m \u001B[49m\u001B[43mtime_frame\u001B[49m\u001B[43m)\u001B[49m\n",
      "Cell \u001B[0;32mIn[4], line 40\u001B[0m, in \u001B[0;36mIndeedScraper\u001B[0;34m(job_title, location, time_frame)\u001B[0m\n\u001B[1;32m     29\u001B[0m keywords\u001B[38;5;241m.\u001B[39msubmit()\n\u001B[1;32m     31\u001B[0m \u001B[38;5;66;03m####DATE POSTED---(4)\u001B[39;00m\n\u001B[1;32m     32\u001B[0m \u001B[38;5;66;03m##filter-dateposted-menu is the id for \"date posted\", \u001B[39;00m\n\u001B[1;32m     33\u001B[0m \u001B[38;5;66;03m# 1 = last 24 hours\u001B[39;00m\n\u001B[0;32m   (...)\u001B[0m\n\u001B[1;32m     38\u001B[0m \u001B[38;5;66;03m## [a] as in [li:nth-child(4) a] gets the element with the a tag in the fourth element \u001B[39;00m\n\u001B[1;32m     39\u001B[0m \u001B[38;5;66;03m## .click() clicks the element\u001B[39;00m\n\u001B[0;32m---> 40\u001B[0m \u001B[43mdriver\u001B[49m\u001B[38;5;241;43m.\u001B[39;49m\u001B[43mexecute_script\u001B[49m\u001B[43m(\u001B[49m\u001B[38;5;124;43mf\u001B[39;49m\u001B[38;5;124;43m\"\u001B[39;49m\u001B[38;5;124;43mdocument.querySelector(\u001B[39;49m\u001B[38;5;124;43m'\u001B[39;49m\u001B[38;5;124;43m#filter-dateposted-menu li:nth-child(\u001B[39;49m\u001B[38;5;132;43;01m{\u001B[39;49;00m\u001B[43mtime_frame\u001B[49m\u001B[38;5;132;43;01m}\u001B[39;49;00m\u001B[38;5;124;43m) a\u001B[39;49m\u001B[38;5;124;43m'\u001B[39;49m\u001B[38;5;124;43m).click()\u001B[39;49m\u001B[38;5;124;43m\"\u001B[39;49m\u001B[43m)\u001B[49m\n\u001B[1;32m     42\u001B[0m \u001B[38;5;66;03m#get the number of jobs\u001B[39;00m\n\u001B[1;32m     43\u001B[0m jobs_num \u001B[38;5;241m=\u001B[39m driver\u001B[38;5;241m.\u001B[39mfind_element(By\u001B[38;5;241m.\u001B[39mCSS_SELECTOR,\u001B[38;5;124m\"\u001B[39m\u001B[38;5;124m.jobsearch-JobCountAndSortPane-jobCount.css-13jafh6.eu4oa1w0\u001B[39m\u001B[38;5;124m\"\u001B[39m)\u001B[38;5;241m.\u001B[39mtext\n",
      "File \u001B[0;32m~/anaconda3/lib/python3.10/site-packages/selenium/webdriver/remote/webdriver.py:407\u001B[0m, in \u001B[0;36mWebDriver.execute_script\u001B[0;34m(self, script, *args)\u001B[0m\n\u001B[1;32m    404\u001B[0m converted_args \u001B[38;5;241m=\u001B[39m \u001B[38;5;28mlist\u001B[39m(args)\n\u001B[1;32m    405\u001B[0m command \u001B[38;5;241m=\u001B[39m Command\u001B[38;5;241m.\u001B[39mW3C_EXECUTE_SCRIPT\n\u001B[0;32m--> 407\u001B[0m \u001B[38;5;28;01mreturn\u001B[39;00m \u001B[38;5;28;43mself\u001B[39;49m\u001B[38;5;241;43m.\u001B[39;49m\u001B[43mexecute\u001B[49m\u001B[43m(\u001B[49m\u001B[43mcommand\u001B[49m\u001B[43m,\u001B[49m\u001B[43m \u001B[49m\u001B[43m{\u001B[49m\u001B[38;5;124;43m\"\u001B[39;49m\u001B[38;5;124;43mscript\u001B[39;49m\u001B[38;5;124;43m\"\u001B[39;49m\u001B[43m:\u001B[49m\u001B[43m \u001B[49m\u001B[43mscript\u001B[49m\u001B[43m,\u001B[49m\u001B[43m \u001B[49m\u001B[38;5;124;43m\"\u001B[39;49m\u001B[38;5;124;43margs\u001B[39;49m\u001B[38;5;124;43m\"\u001B[39;49m\u001B[43m:\u001B[49m\u001B[43m \u001B[49m\u001B[43mconverted_args\u001B[49m\u001B[43m}\u001B[49m\u001B[43m)\u001B[49m[\u001B[38;5;124m\"\u001B[39m\u001B[38;5;124mvalue\u001B[39m\u001B[38;5;124m\"\u001B[39m]\n",
      "File \u001B[0;32m~/anaconda3/lib/python3.10/site-packages/selenium/webdriver/remote/webdriver.py:347\u001B[0m, in \u001B[0;36mWebDriver.execute\u001B[0;34m(self, driver_command, params)\u001B[0m\n\u001B[1;32m    345\u001B[0m response \u001B[38;5;241m=\u001B[39m \u001B[38;5;28mself\u001B[39m\u001B[38;5;241m.\u001B[39mcommand_executor\u001B[38;5;241m.\u001B[39mexecute(driver_command, params)\n\u001B[1;32m    346\u001B[0m \u001B[38;5;28;01mif\u001B[39;00m response:\n\u001B[0;32m--> 347\u001B[0m     \u001B[38;5;28;43mself\u001B[39;49m\u001B[38;5;241;43m.\u001B[39;49m\u001B[43merror_handler\u001B[49m\u001B[38;5;241;43m.\u001B[39;49m\u001B[43mcheck_response\u001B[49m\u001B[43m(\u001B[49m\u001B[43mresponse\u001B[49m\u001B[43m)\u001B[49m\n\u001B[1;32m    348\u001B[0m     response[\u001B[38;5;124m\"\u001B[39m\u001B[38;5;124mvalue\u001B[39m\u001B[38;5;124m\"\u001B[39m] \u001B[38;5;241m=\u001B[39m \u001B[38;5;28mself\u001B[39m\u001B[38;5;241m.\u001B[39m_unwrap_value(response\u001B[38;5;241m.\u001B[39mget(\u001B[38;5;124m\"\u001B[39m\u001B[38;5;124mvalue\u001B[39m\u001B[38;5;124m\"\u001B[39m, \u001B[38;5;28;01mNone\u001B[39;00m))\n\u001B[1;32m    349\u001B[0m     \u001B[38;5;28;01mreturn\u001B[39;00m response\n",
      "File \u001B[0;32m~/anaconda3/lib/python3.10/site-packages/selenium/webdriver/remote/errorhandler.py:229\u001B[0m, in \u001B[0;36mErrorHandler.check_response\u001B[0;34m(self, response)\u001B[0m\n\u001B[1;32m    227\u001B[0m         alert_text \u001B[38;5;241m=\u001B[39m value[\u001B[38;5;124m\"\u001B[39m\u001B[38;5;124malert\u001B[39m\u001B[38;5;124m\"\u001B[39m]\u001B[38;5;241m.\u001B[39mget(\u001B[38;5;124m\"\u001B[39m\u001B[38;5;124mtext\u001B[39m\u001B[38;5;124m\"\u001B[39m)\n\u001B[1;32m    228\u001B[0m     \u001B[38;5;28;01mraise\u001B[39;00m exception_class(message, screen, stacktrace, alert_text)  \u001B[38;5;66;03m# type: ignore[call-arg]  # mypy is not smart enough here\u001B[39;00m\n\u001B[0;32m--> 229\u001B[0m \u001B[38;5;28;01mraise\u001B[39;00m exception_class(message, screen, stacktrace)\n",
      "\u001B[0;31mJavascriptException\u001B[0m: Message: javascript error: Cannot read properties of null (reading 'click')\n  (Session info: chrome=123.0.6312.107)\nStacktrace:\n0   chromedriver                        0x0000000100770474 chromedriver + 4326516\n1   chromedriver                        0x000000010076893c chromedriver + 4294972\n2   chromedriver                        0x0000000100394088 chromedriver + 278664\n3   chromedriver                        0x0000000100398abc chromedriver + 297660\n4   chromedriver                        0x000000010039a684 chromedriver + 304772\n5   chromedriver                        0x000000010040ff30 chromedriver + 786224\n6   chromedriver                        0x000000010040f4f8 chromedriver + 783608\n7   chromedriver                        0x00000001003cb4e4 chromedriver + 505060\n8   chromedriver                        0x00000001003cbf5c chromedriver + 507740\n9   chromedriver                        0x0000000100733a10 chromedriver + 4078096\n10  chromedriver                        0x00000001007387c8 chromedriver + 4097992\n11  chromedriver                        0x000000010071a5b4 chromedriver + 3974580\n12  chromedriver                        0x00000001007390e0 chromedriver + 4100320\n13  chromedriver                        0x000000010070bba4 chromedriver + 3914660\n14  chromedriver                        0x00000001007596e8 chromedriver + 4232936\n15  chromedriver                        0x0000000100759864 chromedriver + 4233316\n16  chromedriver                        0x00000001007685b0 chromedriver + 4294064\n17  libsystem_pthread.dylib             0x000000019c122f94 _pthread_start + 136\n18  libsystem_pthread.dylib             0x000000019c11dd34 thread_start + 8\n"
     ]
    }
   ],
   "source": [
    "from selenium import webdriver\n",
    "from selenium.webdriver.common.by import By\n",
    "from selenium.common.exceptions import NoSuchElementException, TimeoutException\n",
    "\n",
    "\n",
    "job_title = job_titles()  \n",
    "location = locations()\n",
    "time_frame = time_frames()\n",
    "\n",
    "def IndeedScraper(job_title:str, location:str, time_frame:int):\n",
    "    \n",
    "    #setting the website\n",
    "    url = \"https://www.indeed.com/\"\n",
    "    driver = webdriver.Chrome()\n",
    "    driver.get(url)\n",
    "    \n",
    "    \n",
    "    #location or remote #if remote, can't use radius\"\n",
    "    keywords_loc = driver.find_element(By.XPATH, '//*[@id=\"text-input-where\"]')\n",
    "    keywords_loc.clear() #remove words already in keyword\n",
    "    keywords_loc.send_keys(location)\n",
    "    keywords_loc.submit()\n",
    "    \n",
    "    \n",
    "    # Wait for the keywords input field to be visible and interactable\n",
    "    #TO BE ITERATED\n",
    "    keywords = driver.find_element(By.XPATH, '//*[@id=\"text-input-what\"]')\n",
    "    keywords.send_keys(job_title)\n",
    "    keywords.submit()\n",
    "    \n",
    "    ####DATE POSTED---(4)\n",
    "    ##filter-dateposted-menu is the id for \"date posted\", \n",
    "    # 1 = last 24 hours\n",
    "    # 2 = last 3 days\n",
    "    # 3 = last 7 days\n",
    "    # 4 = last 14 days\n",
    "    ##li:nth-child(4) gets the (4)th element within the #filter-dateposted-menu\n",
    "    ## [a] as in [li:nth-child(4) a] gets the element with the a tag in the fourth element \n",
    "    ## .click() clicks the element\n",
    "    driver.execute_script(f\"document.querySelector('#filter-dateposted-menu li:nth-child({time_frame}) a').click()\")\n",
    "    \n",
    "    #get the number of jobs\n",
    "    jobs_num = driver.find_element(By.CSS_SELECTOR,\".jobsearch-JobCountAndSortPane-jobCount.css-13jafh6.eu4oa1w0\").text\n",
    "    \n",
    "    jobs_data = []  # List to store job data\n",
    "    \n",
    "#while true continues until there's no job matches on a given the page\n",
    "    while True: \n",
    "        #on a page, get the current jobs there \n",
    "        jobs = driver.find_elements(By.CSS_SELECTOR, \".job_seen_beacon\")\n",
    "        \n",
    "        #for every job on the page\n",
    "        for job in jobs:\n",
    "            #get the title\n",
    "            title = job.find_element(By.CSS_SELECTOR, \"a > span\").get_attribute('title')\n",
    "            #get the company\n",
    "            company_name = job.find_element(By.CSS_SELECTOR, \".css-92r8pb.eu4oa1w0\").text\n",
    "            #get the location\n",
    "            company_location = job.find_element(By.CSS_SELECTOR, \".css-1p0sjhy.eu4oa1w0\").text\n",
    "            \n",
    "            #Add entry as a row in the dataset\n",
    "            job_entry = {\n",
    "                \"Title\": title,\n",
    "                \"Company\": company_name,\n",
    "                \"Location\": company_location\n",
    "            }\n",
    "            #append each row (for all the jobs on the page (so usually 15 at a time)\n",
    "            jobs_data.append(job_entry)\n",
    "    \n",
    "        # Attempt to go to the next page (try\n",
    "        try:\n",
    "            #if there's a \"next page\", click next, if sucessful, the \"While true\" starts again\n",
    "            next_page = driver.find_element(By.CSS_SELECTOR, \"a[data-testid='pagination-page-next']\")\n",
    "            next_page.click()\n",
    "        # If there's no next page, exit the loop (same for only one-page job searches)\n",
    "        except (NoSuchElementException, TimeoutException):\n",
    "            break  \n",
    "    \n",
    "    #close the browser when done\n",
    "    driver.close()\n",
    "    return jobs_data\n",
    "\n",
    "jobs_data = IndeedScraper(job_title, location, time_frame)"
   ],
   "metadata": {
    "collapsed": false,
    "ExecuteTime": {
     "end_time": "2024-04-09T08:19:35.810903Z",
     "start_time": "2024-04-09T08:18:37.854675Z"
    }
   },
   "id": "a742e71d600c1d09",
   "execution_count": 4
  },
  {
   "cell_type": "code",
   "outputs": [
    {
     "ename": "NameError",
     "evalue": "name 'jobs_num' is not defined",
     "output_type": "error",
     "traceback": [
      "\u001B[0;31m---------------------------------------------------------------------------\u001B[0m",
      "\u001B[0;31mNameError\u001B[0m                                 Traceback (most recent call last)",
      "Cell \u001B[0;32mIn[1], line 2\u001B[0m\n\u001B[1;32m      1\u001B[0m \u001B[38;5;28;01mimport\u001B[39;00m \u001B[38;5;21;01mpandas\u001B[39;00m \u001B[38;5;28;01mas\u001B[39;00m \u001B[38;5;21;01mpd\u001B[39;00m\n\u001B[0;32m----> 2\u001B[0m \u001B[38;5;28mprint\u001B[39m(\u001B[38;5;124mf\u001B[39m\u001B[38;5;124m\"\u001B[39m\u001B[38;5;124mThere is are \u001B[39m\u001B[38;5;132;01m{\u001B[39;00mjobs_num\u001B[38;5;132;01m}\u001B[39;00m\u001B[38;5;124m which match the description\u001B[39m\u001B[38;5;124m\"\u001B[39m)\n\u001B[1;32m      3\u001B[0m pd\u001B[38;5;241m.\u001B[39mDataFrame(jobs_data)\n",
      "\u001B[0;31mNameError\u001B[0m: name 'jobs_num' is not defined"
     ]
    }
   ],
   "source": [
    "import pandas as pd\n",
    "print(f\"There is are {jobs_num} which match the description\")\n",
    "pd.DataFrame(jobs_data)"
   ],
   "metadata": {
    "ExecuteTime": {
     "end_time": "2024-04-09T08:18:29.041195Z",
     "start_time": "2024-04-09T08:18:27.087342Z"
    }
   },
   "id": "3c8fa451",
   "execution_count": 1
  },
  {
   "cell_type": "code",
   "outputs": [],
   "source": [],
   "metadata": {
    "collapsed": false
   },
   "id": "3c0b537ffcd05e04"
  }
 ],
 "metadata": {
  "kernelspec": {
   "display_name": "Python 3 (ipykernel)",
   "language": "python",
   "name": "python3"
  },
  "language_info": {
   "codemirror_mode": {
    "name": "ipython",
    "version": 3
   },
   "file_extension": ".py",
   "mimetype": "text/x-python",
   "name": "python",
   "nbconvert_exporter": "python",
   "pygments_lexer": "ipython3",
   "version": "3.10.9"
  }
 },
 "nbformat": 4,
 "nbformat_minor": 5
}
