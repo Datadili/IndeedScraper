{
 "cells": [
  {
   "cell_type": "code",
   "execution_count": 1,
   "id": "05f98a08",
   "metadata": {
    "ExecuteTime": {
     "end_time": "2024-04-09T05:56:29.718062Z",
     "start_time": "2024-04-09T05:55:16.582878Z"
    }
   },
   "outputs": [],
   "source": [
    "from selenium import webdriver\n",
    "from selenium.webdriver.common.by import By\n",
    "from selenium.webdriver.support.ui import WebDriverWait\n",
    "from selenium.webdriver.support import expected_conditions as EC\n",
    "\n",
    "url = \"https://www.indeed.com/\"\n",
    "driver = webdriver.Chrome()\n",
    "driver.get(url)\n",
    "\n",
    "\n",
    "#location or remote #if remote, can't use radius\"\n",
    "keywords_loc = driver.find_element(By.XPATH, '//*[@id=\"text-input-where\"]')\n",
    "keywords_loc.clear() #remove words already in keyword\n",
    "keywords_loc.send_keys(\"MA\")\n",
    "keywords_loc.submit()\n",
    "\n",
    "\n",
    "# Wait for the keywords input field to be visible and interactable\n",
    "#TO BE ITERATED\n",
    "keywords = driver.find_element(By.XPATH, '//*[@id=\"text-input-what\"]')\n",
    "keywords.send_keys(\"engineer\")\n",
    "keywords.submit()\n",
    "\n",
    "####DATE POSTED---(4)\n",
    "##filter-dateposted-menu is the id for \"date posted\", \n",
    "# 1 = last 24 hours\n",
    "# 2 = last 3 days\n",
    "# 3 = last 7 days\n",
    "# 4 = last 14 days\n",
    "##li:nth-child(4) gets the (4)th element within the #filter-dateposted-menu\n",
    "## [a] as in [li:nth-child(4) a] gets the element with the a tag in the fourth element \n",
    "## .click() clicks the element\n",
    "driver.execute_script(\"document.querySelector('#filter-dateposted-menu li:nth-child(4) a').click()\")\n",
    "\n",
    "####RADIUS--- (8 values)\n",
    "##filter-remotejob-menu is the id for distance from location\n",
    "## 1 is exact location\n",
    "#driver.execute_script(\"document.querySelector('#filter-radius-menu li:nth-child(1) a').click()\")\n",
    "\n",
    "#get the number of jobs\n",
    "jobs_num = driver.find_element(By.CSS_SELECTOR,\".jobsearch-JobCountAndSortPane-jobCount.css-13jafh6.eu4oa1w0\").text\n",
    "\n",
    "#get all the job postings on one page...\n",
    "jobs = driver.find_elements(By.CSS_SELECTOR, \".job_seen_beacon\")\n",
    "\n",
    "#if there's more than one page\n",
    "navigation = driver.find_elements(By.CSS_SELECTOR, \".css-227srf.eu4oa1w0\")\n",
    "\n",
    "#empty list to store jobs\n",
    "jobs_data = []\n",
    "#iterate though jobs found\n",
    "for job in jobs:\n",
    "    #title is a and span\n",
    "    title = job.find_element(By.CSS_SELECTOR, \"a > span\")\n",
    "    \n",
    "    #company name is under the class \".css-92r8pb.eu4oa1w0\"\n",
    "    company_name = job.find_element(By.CSS_SELECTOR, \".css-92r8pb.eu4oa1w0\")\n",
    "    company_location = job.find_element(By.CSS_SELECTOR, \".css-1p0sjhy.eu4oa1w0\")\n",
    "    \n",
    "    #make a job entry for each job\n",
    "    job_entry = {\n",
    "        \"Title\":title.get_attribute('title'),\n",
    "        \"Company\":company_name.text, \n",
    "        \"Location\":company_location.text\n",
    "    }\n",
    "    #append the data entry\n",
    "    jobs_data.append(job_entry)   \n"
   ]
  },
  {
   "cell_type": "markdown",
   "source": [
    "you shouldn't "
   ],
   "metadata": {
    "collapsed": false
   },
   "id": "d442e78dad14fcbe"
  },
  {
   "cell_type": "code",
   "execution_count": 2,
   "id": "3c8fa451",
   "metadata": {
    "ExecuteTime": {
     "end_time": "2024-04-09T05:56:42.637635Z",
     "start_time": "2024-04-09T05:56:41.593341Z"
    }
   },
   "outputs": [
    {
     "name": "stdout",
     "output_type": "stream",
     "text": [
      "There is are 870 jobs which match the description\n"
     ]
    },
    {
     "data": {
      "text/plain": "                                                Title  \\\n0              Materials Engineer (Entry Level I-III)   \n1                                 Mechanical Engineer   \n2                     Research & Development Engineer   \n3                 Applications Engineer - Direct hire   \n4                                   Jr. Test Engineer   \n5                                Lab Support Engineer   \n6                                    Quality Engineer   \n7                                   Power IC Designer   \n8                 Mechatronics Engineer - Entry Level   \n9                        Optical Electronics Engineer   \n10                     Product Development Engineer I   \n11  Electronic Hardware Design Engineer - Sr & Princ.   \n12                       Entry-Level Project Engineer   \n13               Electrochemical Development Engineer   \n14                                           Engineer   \n\n                             Company                              Location  \n0                      Solvus Global    Hybrid work in Worcester, MA 01605  \n1   Express Employment Professionals                          Franklin, MA  \n2                     Mathearth Inc.  Cambridge, MA 02138 \\n(Peabody area)  \n3         Search Staffing Group Inc.                     Milford, MA 01757  \n4                           Actalent      Hybrid work in Raynham, MA 02767  \n5                             Lorien                         Brookline, MA  \n6                Abbott Laboratories                    Westford, MA 01886  \n7                     Analog Devices                  Wilmington, MA 01887  \n8                        Kosmos Corp                       Springfield, MA  \n9                    KineoLabs, Inc.                   Billerica, MA 01821  \n10                 Johnson & Johnson                     Raynham, MA 02767  \n11                   The Judge Group                         Cambridge, MA  \n12  Assembly & Automation Technology                        Chelmsford, MA  \n13         AvCarb Material Solutions   Lowell, MA 01851 \\n(Highlands area)  \n14      infinite Computing solutions                  Burlington, MA 01803  ",
      "text/html": "<div>\n<style scoped>\n    .dataframe tbody tr th:only-of-type {\n        vertical-align: middle;\n    }\n\n    .dataframe tbody tr th {\n        vertical-align: top;\n    }\n\n    .dataframe thead th {\n        text-align: right;\n    }\n</style>\n<table border=\"1\" class=\"dataframe\">\n  <thead>\n    <tr style=\"text-align: right;\">\n      <th></th>\n      <th>Title</th>\n      <th>Company</th>\n      <th>Location</th>\n    </tr>\n  </thead>\n  <tbody>\n    <tr>\n      <th>0</th>\n      <td>Materials Engineer (Entry Level I-III)</td>\n      <td>Solvus Global</td>\n      <td>Hybrid work in Worcester, MA 01605</td>\n    </tr>\n    <tr>\n      <th>1</th>\n      <td>Mechanical Engineer</td>\n      <td>Express Employment Professionals</td>\n      <td>Franklin, MA</td>\n    </tr>\n    <tr>\n      <th>2</th>\n      <td>Research &amp; Development Engineer</td>\n      <td>Mathearth Inc.</td>\n      <td>Cambridge, MA 02138 \\n(Peabody area)</td>\n    </tr>\n    <tr>\n      <th>3</th>\n      <td>Applications Engineer - Direct hire</td>\n      <td>Search Staffing Group Inc.</td>\n      <td>Milford, MA 01757</td>\n    </tr>\n    <tr>\n      <th>4</th>\n      <td>Jr. Test Engineer</td>\n      <td>Actalent</td>\n      <td>Hybrid work in Raynham, MA 02767</td>\n    </tr>\n    <tr>\n      <th>5</th>\n      <td>Lab Support Engineer</td>\n      <td>Lorien</td>\n      <td>Brookline, MA</td>\n    </tr>\n    <tr>\n      <th>6</th>\n      <td>Quality Engineer</td>\n      <td>Abbott Laboratories</td>\n      <td>Westford, MA 01886</td>\n    </tr>\n    <tr>\n      <th>7</th>\n      <td>Power IC Designer</td>\n      <td>Analog Devices</td>\n      <td>Wilmington, MA 01887</td>\n    </tr>\n    <tr>\n      <th>8</th>\n      <td>Mechatronics Engineer - Entry Level</td>\n      <td>Kosmos Corp</td>\n      <td>Springfield, MA</td>\n    </tr>\n    <tr>\n      <th>9</th>\n      <td>Optical Electronics Engineer</td>\n      <td>KineoLabs, Inc.</td>\n      <td>Billerica, MA 01821</td>\n    </tr>\n    <tr>\n      <th>10</th>\n      <td>Product Development Engineer I</td>\n      <td>Johnson &amp; Johnson</td>\n      <td>Raynham, MA 02767</td>\n    </tr>\n    <tr>\n      <th>11</th>\n      <td>Electronic Hardware Design Engineer - Sr &amp; Princ.</td>\n      <td>The Judge Group</td>\n      <td>Cambridge, MA</td>\n    </tr>\n    <tr>\n      <th>12</th>\n      <td>Entry-Level Project Engineer</td>\n      <td>Assembly &amp; Automation Technology</td>\n      <td>Chelmsford, MA</td>\n    </tr>\n    <tr>\n      <th>13</th>\n      <td>Electrochemical Development Engineer</td>\n      <td>AvCarb Material Solutions</td>\n      <td>Lowell, MA 01851 \\n(Highlands area)</td>\n    </tr>\n    <tr>\n      <th>14</th>\n      <td>Engineer</td>\n      <td>infinite Computing solutions</td>\n      <td>Burlington, MA 01803</td>\n    </tr>\n  </tbody>\n</table>\n</div>"
     },
     "execution_count": 2,
     "metadata": {},
     "output_type": "execute_result"
    }
   ],
   "source": [
    "import pandas as pd\n",
    "print(f\"There is are {jobs_num} which match the description\")\n",
    "pd.DataFrame(jobs_data)"
   ]
  },
  {
   "cell_type": "code",
   "execution_count": 4,
   "id": "ec677ea8",
   "metadata": {
    "ExecuteTime": {
     "end_time": "2024-04-09T05:58:14.123951Z",
     "start_time": "2024-04-09T05:58:14.036906Z"
    }
   },
   "outputs": [
    {
     "name": "stdout",
     "output_type": "stream",
     "text": [
      "pagination-page-current\n",
      "pagination-page-2\n",
      "pagination-page-3\n",
      "pagination-page-4\n",
      "pagination-page-5\n",
      "pagination-page-next\n"
     ]
    }
   ],
   "source": [
    "for pages in navigation:\n",
    "    page = pages.find_element(By.CSS_SELECTOR, \"a\")\n",
    "    #print(pagesw)\n",
    "    pages_name = page.get_attribute(\"data-testid\")\n",
    "    print(pages_name)\n",
    "    #if pages_name == \"pagination-page-next\":\n",
    "        "
   ]
  },
  {
   "cell_type": "code",
   "execution_count": 18,
   "id": "1f8a6d87",
   "metadata": {},
   "outputs": [
    {
     "data": {
      "text/plain": [
       "[<selenium.webdriver.remote.webelement.WebElement (session=\"ec40428d78bb07a19a216047caf00ebe\", element=\"f.63AD362E6E457AD43DD856B0AECCBBB9.d.2FCFE1517233BBF598810EF577935D29.e.57\")>,\n",
       " <selenium.webdriver.remote.webelement.WebElement (session=\"ec40428d78bb07a19a216047caf00ebe\", element=\"f.63AD362E6E457AD43DD856B0AECCBBB9.d.2FCFE1517233BBF598810EF577935D29.e.58\")>,\n",
       " <selenium.webdriver.remote.webelement.WebElement (session=\"ec40428d78bb07a19a216047caf00ebe\", element=\"f.63AD362E6E457AD43DD856B0AECCBBB9.d.2FCFE1517233BBF598810EF577935D29.e.59\")>,\n",
       " <selenium.webdriver.remote.webelement.WebElement (session=\"ec40428d78bb07a19a216047caf00ebe\", element=\"f.63AD362E6E457AD43DD856B0AECCBBB9.d.2FCFE1517233BBF598810EF577935D29.e.60\")>,\n",
       " <selenium.webdriver.remote.webelement.WebElement (session=\"ec40428d78bb07a19a216047caf00ebe\", element=\"f.63AD362E6E457AD43DD856B0AECCBBB9.d.2FCFE1517233BBF598810EF577935D29.e.61\")>,\n",
       " <selenium.webdriver.remote.webelement.WebElement (session=\"ec40428d78bb07a19a216047caf00ebe\", element=\"f.63AD362E6E457AD43DD856B0AECCBBB9.d.2FCFE1517233BBF598810EF577935D29.e.62\")>,\n",
       " <selenium.webdriver.remote.webelement.WebElement (session=\"ec40428d78bb07a19a216047caf00ebe\", element=\"f.63AD362E6E457AD43DD856B0AECCBBB9.d.2FCFE1517233BBF598810EF577935D29.e.63\")>,\n",
       " <selenium.webdriver.remote.webelement.WebElement (session=\"ec40428d78bb07a19a216047caf00ebe\", element=\"f.63AD362E6E457AD43DD856B0AECCBBB9.d.2FCFE1517233BBF598810EF577935D29.e.64\")>,\n",
       " <selenium.webdriver.remote.webelement.WebElement (session=\"ec40428d78bb07a19a216047caf00ebe\", element=\"f.63AD362E6E457AD43DD856B0AECCBBB9.d.2FCFE1517233BBF598810EF577935D29.e.65\")>,\n",
       " <selenium.webdriver.remote.webelement.WebElement (session=\"ec40428d78bb07a19a216047caf00ebe\", element=\"f.63AD362E6E457AD43DD856B0AECCBBB9.d.2FCFE1517233BBF598810EF577935D29.e.66\")>,\n",
       " <selenium.webdriver.remote.webelement.WebElement (session=\"ec40428d78bb07a19a216047caf00ebe\", element=\"f.63AD362E6E457AD43DD856B0AECCBBB9.d.2FCFE1517233BBF598810EF577935D29.e.67\")>,\n",
       " <selenium.webdriver.remote.webelement.WebElement (session=\"ec40428d78bb07a19a216047caf00ebe\", element=\"f.63AD362E6E457AD43DD856B0AECCBBB9.d.2FCFE1517233BBF598810EF577935D29.e.68\")>,\n",
       " <selenium.webdriver.remote.webelement.WebElement (session=\"ec40428d78bb07a19a216047caf00ebe\", element=\"f.63AD362E6E457AD43DD856B0AECCBBB9.d.2FCFE1517233BBF598810EF577935D29.e.69\")>,\n",
       " <selenium.webdriver.remote.webelement.WebElement (session=\"ec40428d78bb07a19a216047caf00ebe\", element=\"f.63AD362E6E457AD43DD856B0AECCBBB9.d.2FCFE1517233BBF598810EF577935D29.e.70\")>,\n",
       " <selenium.webdriver.remote.webelement.WebElement (session=\"ec40428d78bb07a19a216047caf00ebe\", element=\"f.63AD362E6E457AD43DD856B0AECCBBB9.d.2FCFE1517233BBF598810EF577935D29.e.71\")>]"
      ]
     },
     "execution_count": 18,
     "metadata": {},
     "output_type": "execute_result"
    }
   ],
   "source": [
    "jobs"
   ]
  },
  {
   "cell_type": "code",
   "execution_count": 10,
   "id": "ecffdbe5",
   "metadata": {},
   "outputs": [
    {
     "ename": "TypeError",
     "evalue": "'WebElement' object is not iterable",
     "output_type": "error",
     "traceback": [
      "\u001B[0;31m---------------------------------------------------------------------------\u001B[0m",
      "\u001B[0;31mTypeError\u001B[0m                                 Traceback (most recent call last)",
      "Cell \u001B[0;32mIn[10], line 1\u001B[0m\n\u001B[0;32m----> 1\u001B[0m \u001B[38;5;28;01mfor\u001B[39;00m page \u001B[38;5;129;01min\u001B[39;00m navigation:\n\u001B[1;32m      2\u001B[0m     pages \u001B[38;5;241m=\u001B[39m page\u001B[38;5;241m.\u001B[39mfind_element(By\u001B[38;5;241m.\u001B[39mCSS_SELECTOR, \u001B[38;5;124m\"\u001B[39m\u001B[38;5;124mli > a\u001B[39m\u001B[38;5;124m\"\u001B[39m)\n\u001B[1;32m      3\u001B[0m     pages_name \u001B[38;5;241m=\u001B[39m pages\u001B[38;5;241m.\u001B[39mget_attribute(\u001B[38;5;124m\"\u001B[39m\u001B[38;5;124mdata-testid\u001B[39m\u001B[38;5;124m\"\u001B[39m)\n",
      "\u001B[0;31mTypeError\u001B[0m: 'WebElement' object is not iterable"
     ]
    }
   ],
   "source": [
    "#Former code\n",
    "navigation = driver.find_elements(By.CSS_SELECTOR, \".css-1g90gv6.eu4oa1w0\")\n",
    "\n",
    "for page in navigation:\n",
    "    pages = page.find_element(By.CSS_SELECTOR, \"li > a\")\n",
    "    pages_name = pages.get_attribute(\"data-testid\")\n",
    "    print(pages_name)"
   ]
  }
 ],
 "metadata": {
  "kernelspec": {
   "display_name": "Python 3 (ipykernel)",
   "language": "python",
   "name": "python3"
  },
  "language_info": {
   "codemirror_mode": {
    "name": "ipython",
    "version": 3
   },
   "file_extension": ".py",
   "mimetype": "text/x-python",
   "name": "python",
   "nbconvert_exporter": "python",
   "pygments_lexer": "ipython3",
   "version": "3.10.9"
  }
 },
 "nbformat": 4,
 "nbformat_minor": 5
}
